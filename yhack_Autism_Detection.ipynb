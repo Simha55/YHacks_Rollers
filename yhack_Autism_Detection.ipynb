{
  "cells": [
    {
      "cell_type": "code",
      "source": [
        ""
      ],
      "metadata": {
        "id": "FO4sCP4rB3lh"
      },
      "execution_count": null,
      "outputs": []
    },
    {
      "cell_type": "code",
      "execution_count": null,
      "metadata": {
        "colab": {
          "base_uri": "https://localhost:8080/"
        },
        "id": "Gwe2jnkw0LF1",
        "outputId": "d95ba6e9-0784-4b9e-aa02-0c1e8667abc9"
      },
      "outputs": [
        {
          "output_type": "stream",
          "name": "stdout",
          "text": [
            "Sat Apr  9 22:45:05 2022       \n",
            "+-----------------------------------------------------------------------------+\n",
            "| NVIDIA-SMI 460.32.03    Driver Version: 460.32.03    CUDA Version: 11.2     |\n",
            "|-------------------------------+----------------------+----------------------+\n",
            "| GPU  Name        Persistence-M| Bus-Id        Disp.A | Volatile Uncorr. ECC |\n",
            "| Fan  Temp  Perf  Pwr:Usage/Cap|         Memory-Usage | GPU-Util  Compute M. |\n",
            "|                               |                      |               MIG M. |\n",
            "|===============================+======================+======================|\n",
            "|   0  Tesla K80           Off  | 00000000:00:04.0 Off |                    0 |\n",
            "| N/A   68C    P8    32W / 149W |      0MiB / 11441MiB |      0%      Default |\n",
            "|                               |                      |                  N/A |\n",
            "+-------------------------------+----------------------+----------------------+\n",
            "                                                                               \n",
            "+-----------------------------------------------------------------------------+\n",
            "| Processes:                                                                  |\n",
            "|  GPU   GI   CI        PID   Type   Process name                  GPU Memory |\n",
            "|        ID   ID                                                   Usage      |\n",
            "|=============================================================================|\n",
            "|  No running processes found                                                 |\n",
            "+-----------------------------------------------------------------------------+\n"
          ]
        }
      ],
      "source": [
        "gpu_info = !nvidia-smi\n",
        "gpu_info = '\\n'.join(gpu_info)\n",
        "if gpu_info.find('failed') >= 0:\n",
        "  print('Not connected to a GPU')\n",
        "else:\n",
        "  print(gpu_info)"
      ]
    },
    {
      "cell_type": "code",
      "execution_count": null,
      "metadata": {
        "id": "7hvcEEoQRfTZ",
        "colab": {
          "base_uri": "https://localhost:8080/"
        },
        "outputId": "8b1e2515-7962-4575-fdd3-102e210a397f"
      },
      "outputs": [
        {
          "output_type": "stream",
          "name": "stdout",
          "text": [
            "Mounted at /content/drive\n"
          ]
        }
      ],
      "source": [
        "from google.colab import drive\n",
        "drive.mount('/content/drive')"
      ]
    },
    {
      "cell_type": "code",
      "execution_count": null,
      "metadata": {
        "id": "1-9QgjKo1ZmX"
      },
      "outputs": [],
      "source": [
        ""
      ]
    },
    {
      "cell_type": "code",
      "execution_count": null,
      "metadata": {
        "id": "Q-5ACvXIT9Df",
        "colab": {
          "base_uri": "https://localhost:8080/"
        },
        "outputId": "fc556aad-8b68-4296-f1de-98441bd14a42"
      },
      "outputs": [
        {
          "output_type": "stream",
          "name": "stdout",
          "text": [
            "dataset  output.avi  train.txt\tweights_0.params  weights_9.params\n"
          ]
        }
      ],
      "source": [
        "!ls /content/drive/MyDrive/yhacks"
      ]
    },
    {
      "cell_type": "code",
      "execution_count": null,
      "metadata": {
        "id": "qpgHVulT1arW",
        "colab": {
          "base_uri": "https://localhost:8080/"
        },
        "outputId": "3351fcdf-9e24-46a7-9ba1-6074459ce0a9"
      },
      "outputs": [
        {
          "output_type": "stream",
          "name": "stdout",
          "text": [
            "nvcc: NVIDIA (R) Cuda compiler driver\n",
            "Copyright (c) 2005-2020 NVIDIA Corporation\n",
            "Built on Mon_Oct_12_20:09:46_PDT_2020\n",
            "Cuda compilation tools, release 11.1, V11.1.105\n",
            "Build cuda_11.1.TC455_06.29190527_0\n",
            "Collecting mxnet-cu101==1.7.0\n",
            "  Downloading mxnet_cu101-1.7.0-py2.py3-none-manylinux2014_x86_64.whl (846.0 MB)\n",
            "\u001b[K     |███████████████████████████████▌| 834.1 MB 1.4 MB/s eta 0:00:09tcmalloc: large alloc 1147494400 bytes == 0x563341942000 @  0x7fa47c5c7615 0x563307c2217c 0x563307d0247a 0x563307c24f9d 0x563307d16d4d 0x563307c98ec8 0x563307c93a2e 0x563307c2688a 0x563307c98d30 0x563307c93a2e 0x563307c2688a 0x563307c95719 0x563307d17b76 0x563307c94d95 0x563307d17b76 0x563307c94d95 0x563307d17b76 0x563307c94d95 0x563307c26ce9 0x563307c6a579 0x563307c25902 0x563307c98c4d 0x563307c93a2e 0x563307c2688a 0x563307c95719 0x563307c93a2e 0x563307c2688a 0x563307c948f6 0x563307c267aa 0x563307c94b4f 0x563307c93a2e\n",
            "\u001b[K     |████████████████████████████████| 846.0 MB 22 kB/s \n",
            "\u001b[?25hRequirement already satisfied: requests<3,>=2.20.0 in /usr/local/lib/python3.7/dist-packages (from mxnet-cu101==1.7.0) (2.23.0)\n",
            "Requirement already satisfied: numpy<2.0.0,>1.16.0 in /usr/local/lib/python3.7/dist-packages (from mxnet-cu101==1.7.0) (1.21.5)\n",
            "Collecting graphviz<0.9.0,>=0.8.1\n",
            "  Downloading graphviz-0.8.4-py2.py3-none-any.whl (16 kB)\n",
            "Requirement already satisfied: certifi>=2017.4.17 in /usr/local/lib/python3.7/dist-packages (from requests<3,>=2.20.0->mxnet-cu101==1.7.0) (2021.10.8)\n",
            "Requirement already satisfied: chardet<4,>=3.0.2 in /usr/local/lib/python3.7/dist-packages (from requests<3,>=2.20.0->mxnet-cu101==1.7.0) (3.0.4)\n",
            "Requirement already satisfied: urllib3!=1.25.0,!=1.25.1,<1.26,>=1.21.1 in /usr/local/lib/python3.7/dist-packages (from requests<3,>=2.20.0->mxnet-cu101==1.7.0) (1.24.3)\n",
            "Requirement already satisfied: idna<3,>=2.5 in /usr/local/lib/python3.7/dist-packages (from requests<3,>=2.20.0->mxnet-cu101==1.7.0) (2.10)\n",
            "Installing collected packages: graphviz, mxnet-cu101\n",
            "  Attempting uninstall: graphviz\n",
            "    Found existing installation: graphviz 0.10.1\n",
            "    Uninstalling graphviz-0.10.1:\n",
            "      Successfully uninstalled graphviz-0.10.1\n",
            "Successfully installed graphviz-0.8.4 mxnet-cu101-1.7.0\n",
            "Collecting gluoncv\n",
            "  Downloading gluoncv-0.10.5-py2.py3-none-any.whl (1.3 MB)\n",
            "\u001b[K     |████████████████████████████████| 1.3 MB 5.3 MB/s \n",
            "\u001b[?25hRequirement already satisfied: pyyaml in /usr/local/lib/python3.7/dist-packages (from gluoncv) (3.13)\n",
            "Requirement already satisfied: requests in /usr/local/lib/python3.7/dist-packages (from gluoncv) (2.23.0)\n",
            "Requirement already satisfied: scipy in /usr/local/lib/python3.7/dist-packages (from gluoncv) (1.4.1)\n",
            "Collecting portalocker\n",
            "  Downloading portalocker-2.4.0-py2.py3-none-any.whl (16 kB)\n",
            "Requirement already satisfied: matplotlib in /usr/local/lib/python3.7/dist-packages (from gluoncv) (3.2.2)\n",
            "Requirement already satisfied: Pillow in /usr/local/lib/python3.7/dist-packages (from gluoncv) (7.1.2)\n",
            "Collecting yacs\n",
            "  Downloading yacs-0.1.8-py3-none-any.whl (14 kB)\n",
            "Requirement already satisfied: pandas in /usr/local/lib/python3.7/dist-packages (from gluoncv) (1.3.5)\n",
            "Requirement already satisfied: numpy in /usr/local/lib/python3.7/dist-packages (from gluoncv) (1.21.5)\n",
            "Collecting autocfg\n",
            "  Downloading autocfg-0.0.8-py3-none-any.whl (13 kB)\n",
            "Requirement already satisfied: tqdm in /usr/local/lib/python3.7/dist-packages (from gluoncv) (4.63.0)\n",
            "Requirement already satisfied: opencv-python in /usr/local/lib/python3.7/dist-packages (from gluoncv) (4.1.2.30)\n",
            "Requirement already satisfied: python-dateutil>=2.1 in /usr/local/lib/python3.7/dist-packages (from matplotlib->gluoncv) (2.8.2)\n",
            "Requirement already satisfied: pyparsing!=2.0.4,!=2.1.2,!=2.1.6,>=2.0.1 in /usr/local/lib/python3.7/dist-packages (from matplotlib->gluoncv) (3.0.7)\n",
            "Requirement already satisfied: cycler>=0.10 in /usr/local/lib/python3.7/dist-packages (from matplotlib->gluoncv) (0.11.0)\n",
            "Requirement already satisfied: kiwisolver>=1.0.1 in /usr/local/lib/python3.7/dist-packages (from matplotlib->gluoncv) (1.4.0)\n",
            "Requirement already satisfied: typing-extensions in /usr/local/lib/python3.7/dist-packages (from kiwisolver>=1.0.1->matplotlib->gluoncv) (3.10.0.2)\n",
            "Requirement already satisfied: six>=1.5 in /usr/local/lib/python3.7/dist-packages (from python-dateutil>=2.1->matplotlib->gluoncv) (1.15.0)\n",
            "Requirement already satisfied: pytz>=2017.3 in /usr/local/lib/python3.7/dist-packages (from pandas->gluoncv) (2018.9)\n",
            "Requirement already satisfied: certifi>=2017.4.17 in /usr/local/lib/python3.7/dist-packages (from requests->gluoncv) (2021.10.8)\n",
            "Requirement already satisfied: chardet<4,>=3.0.2 in /usr/local/lib/python3.7/dist-packages (from requests->gluoncv) (3.0.4)\n",
            "Requirement already satisfied: idna<3,>=2.5 in /usr/local/lib/python3.7/dist-packages (from requests->gluoncv) (2.10)\n",
            "Requirement already satisfied: urllib3!=1.25.0,!=1.25.1,<1.26,>=1.21.1 in /usr/local/lib/python3.7/dist-packages (from requests->gluoncv) (1.24.3)\n",
            "Installing collected packages: yacs, portalocker, autocfg, gluoncv\n",
            "Successfully installed autocfg-0.0.8 gluoncv-0.10.5 portalocker-2.4.0 yacs-0.1.8\n",
            "Collecting decord\n",
            "  Downloading decord-0.6.0-py3-none-manylinux2010_x86_64.whl (13.6 MB)\n",
            "\u001b[K     |████████████████████████████████| 13.6 MB 4.5 MB/s \n",
            "\u001b[?25hRequirement already satisfied: numpy>=1.14.0 in /usr/local/lib/python3.7/dist-packages (from decord) (1.21.5)\n",
            "Installing collected packages: decord\n",
            "Successfully installed decord-0.6.0\n"
          ]
        }
      ],
      "source": [
        "!nvcc --version \n",
        "!pip install -U mxnet-cu101==1.7.0    \n",
        "#version was 1.7.0\n",
        "!pip install --upgrade gluoncv\n",
        "!pip install decord"
      ]
    },
    {
      "cell_type": "code",
      "execution_count": null,
      "metadata": {
        "id": "SxS277HA1a1-",
        "colab": {
          "base_uri": "https://localhost:8080/"
        },
        "outputId": "48d95f9a-9d68-4066-8026-835f29ab5117"
      },
      "outputs": [
        {
          "output_type": "stream",
          "name": "stderr",
          "text": [
            "/usr/local/lib/python3.7/dist-packages/gluoncv/__init__.py:40: UserWarning: Both `mxnet==1.7.0` and `torch==1.10.0+cu111` are installed. You might encounter increased GPU memory footprint if both framework are used at the same time.\n",
            "  warnings.warn(f'Both `mxnet=={mx.__version__}` and `torch=={torch.__version__}` are installed. '\n"
          ]
        }
      ],
      "source": [
        "\n",
        "from __future__ import division\n",
        "\n",
        "import argparse, time, logging, os, sys, math\n",
        "\n",
        "import numpy as np\n",
        "\n",
        "import pandas\n",
        "from decord import VideoReader\n",
        "\n",
        "import mxnet as mx\n",
        "import gluoncv \n",
        "from mxnet import gluon, nd, init, context\n",
        "from mxnet import autograd as ag\n",
        "from mxnet.gluon import nn\n",
        "from mxnet.gluon.data.vision import transforms\n",
        "\n",
        "from gluoncv.data.transforms import video\n",
        "from gluoncv.data import VideoClsCustom\n",
        "import gluoncv.data \n",
        "from gluoncv.model_zoo import get_model\n",
        "from gluoncv.utils import makedirs, LRSequential, LRScheduler, split_and_load, TrainingHistory"
      ]
    },
    {
      "cell_type": "markdown",
      "metadata": {
        "id": "LlDbFVeNHW_I"
      },
      "source": [
        ""
      ]
    },
    {
      "cell_type": "markdown",
      "metadata": {
        "id": "GlbQh0WWHTb8"
      },
      "source": [
        "TRAIN DATA GENRATOR\n"
      ]
    },
    {
      "cell_type": "code",
      "execution_count": null,
      "metadata": {
        "id": "53ZzhYwe1a8s",
        "colab": {
          "base_uri": "https://localhost:8080/"
        },
        "outputId": "439b0348-7d4f-4f90-a207-39500275119a"
      },
      "outputs": [
        {
          "output_type": "stream",
          "name": "stdout",
          "text": [
            "Load 10 training samples.\n"
          ]
        }
      ],
      "source": [
        "#https://medium.com/apache-mxnet/gluoncv-0-6-embrace-video-understanding-49bc10ec1421\n",
        "\n",
        "num_gpus = 1\n",
        "ctx = [mx.gpu(i) for i in range(num_gpus)]\n",
        "\n",
        "transform_train = transforms.Compose([\n",
        "    # Fix the input video frames size as 256×340 and randomly sample the cropping width and height from\n",
        "    # {256,224,192,168}. After that, resize the cropped regions to 224 × 224.\n",
        "    video.VideoMultiScaleCrop(size=(224, 224), scale_ratios=[1.0, 0.9]), #WAS THIS  scale_ratios=[1.0, 0.875, 0.75, 0.66]\n",
        "    # Randomly flip the video frames horizontally\n",
        "    video.VideoRandomHorizontalFlip(),\n",
        "    # Transpose the video frames from height*width*num_channels to num_channels*height*width\n",
        "    # and map values from [0, 255] to [0,1]\n",
        "    video.VideoToTensor(),\n",
        "    # Normalize the video frames with mean and standard deviation calculated across all images\n",
        "    #video.VideoNormalize([0.485, 0.456, 0.406], [0.229, 0.224, 0.225])\n",
        "])\n",
        "\n",
        "per_device_batch_size = 2 #change batch size over here \n",
        "num_workers = 0 # these two lines are used if we were trying to use multiple gpus - so ignore\n",
        "batch_size = per_device_batch_size * num_gpus\n",
        "\n",
        "train_dataset = VideoClsCustom(root=os.path.expanduser('/content/drive/MyDrive/yhacks/'),#bounded_videos/'),\n",
        "                               setting=os.path.expanduser('/content/drive/MyDrive/yhacks/train.txt'),  #CHANGE\n",
        "                               train=True,\n",
        "                               video_loader=True,\n",
        "                               use_decord=True,\n",
        "                               #video_ext = 'mp4',\n",
        "                               new_length=80,\n",
        "                              #  slowfast=True,\n",
        "                              #  slow_temporal_stride=8,\n",
        "                              #  fast_temporal_stride=2,\n",
        "                              #  new_height = 224,\n",
        "                              # new_width= 224,\n",
        "                               transform=transform_train\n",
        "                               )\n",
        "print('Load %d training samples.' % len(train_dataset))\n",
        "train_data = gluon.data.DataLoader(train_dataset, batch_size=batch_size,\n",
        "                                   shuffle=True, num_workers=num_workers)\n"
      ]
    },
    {
      "cell_type": "markdown",
      "metadata": {
        "id": "q5zjCa1BHYGv"
      },
      "source": [
        "VAL DATA GENERATOR\n"
      ]
    },
    {
      "cell_type": "code",
      "execution_count": null,
      "metadata": {
        "id": "BLOxBBBvHave",
        "colab": {
          "base_uri": "https://localhost:8080/"
        },
        "outputId": "c87b8188-94d0-4fd7-9c7c-651f7d4a331b"
      },
      "outputs": [
        {
          "output_type": "stream",
          "name": "stdout",
          "text": [
            "Load 10 training samples.\n"
          ]
        }
      ],
      "source": [
        "# #https://medium.com/apache-mxnet/gluoncv-0-6-embrace-video-understanding-49bc10ec1421\n",
        "\n",
        "num_gpus = 1\n",
        "ctx = [mx.gpu(i) for i in range(num_gpus)]\n",
        "\n",
        "transform_train = transforms.Compose([\n",
        "    # Fix the input video frames size as 256×340 and randomly sample the cropping width and height from\n",
        "    # {256,224,192,168}. After that, resize the cropped regions to 224 × 224.\n",
        "    video.VideoMultiScaleCrop(size=(224, 224), scale_ratios=[1.0, 0.9]), #WAS THIS  scale_ratios=[1.0, 0.875, 0.75, 0.66]\n",
        "    # Randomly flip the video frames horizontally\n",
        "    video.VideoRandomHorizontalFlip(),\n",
        "    # Transpose the video frames from height*width*num_channels to num_channels*height*width\n",
        "    # and map values from [0, 255] to [0,1]\n",
        "    video.VideoToTensor(),\n",
        "    # Normalize the video frames with mean and standard deviation calculated across all images\n",
        "   # video.VideoNormalize([0.485, 0.456, 0.406], [0.229, 0.224, 0.225])\n",
        "])\n",
        "\n",
        "per_device_batch_size =16 #change batch size over here \n",
        "num_workers = 0 # these two lines are used if we were trying to use multiple gpus - so ignore\n",
        "batch_size = per_device_batch_size * num_gpus\n",
        "\n",
        "val_dataset = VideoClsCustom(root=os.path.expanduser('/content/drive/MyDrive/yhacks/'),#bounded_videos/'),\n",
        "                               setting=os.path.expanduser('/content/drive/MyDrive/yhacks/train.txt'),  #CHANGE\n",
        "                               train=False,\n",
        "                               video_loader=True,\n",
        "                               use_decord=True,\n",
        "                               #video_ext = 'mp4',\n",
        "                               new_length=80,\n",
        "                              #  slowfast=True,\n",
        "                              #  slow_temporal_stride=8,\n",
        "                              #  fast_temporal_stride=2,\n",
        "                              #  new_height = 224,\n",
        "                              # new_width= 224,\n",
        "                               transform=transform_train\n",
        "                               )\n",
        "\n",
        "\n",
        "print('Load %d training samples.' % len(val_dataset))\n",
        "val_data = gluon.data.DataLoader(val_dataset, batch_size=batch_size,\n",
        "                                   shuffle=True, num_workers=num_workers)\n"
      ]
    },
    {
      "cell_type": "markdown",
      "metadata": {
        "id": "TEptzunA3bXs"
      },
      "source": [
        "\n",
        "will get erroe if you set pretrained = true. Instead you should set pretrained_base = true as we are changing the number of classes "
      ]
    },
    {
      "cell_type": "code",
      "execution_count": null,
      "metadata": {
        "id": "abnVKSzwMtHE"
      },
      "outputs": [],
      "source": [
        "# url = f\"https://raw.githubusercontent.com/dmlc/gluon-cv/6818c3270454e8262dff3088d2c5a9ad742294d3/gluoncv/model_zoo/action_recognition/slowfast.py\"\n",
        "# !wget --no-cache --backups=1 {url} \n"
      ]
    },
    {
      "cell_type": "code",
      "execution_count": null,
      "metadata": {
        "id": "MMzI3pNaNCrx"
      },
      "outputs": [],
      "source": [
        "\n",
        "# import slowfast"
      ]
    },
    {
      "cell_type": "code",
      "execution_count": null,
      "metadata": {
        "id": "pkLrtAYb3MO7",
        "colab": {
          "base_uri": "https://localhost:8080/"
        },
        "outputId": "8205d83b-38ef-462f-9c0e-cff98e03aa1a"
      },
      "outputs": [
        {
          "output_type": "stream",
          "name": "stdout",
          "text": [
            "Downloading /root/.mxnet/models/resnet50_v1b-0ecdba34.zip from https://apache-mxnet.s3-accelerate.dualstack.amazonaws.com/gluon/models/resnet50_v1b-0ecdba34.zip...\n"
          ]
        },
        {
          "output_type": "stream",
          "name": "stderr",
          "text": [
            "100%|██████████| 55344/55344 [00:01<00:00, 37602.33KB/s]\n"
          ]
        },
        {
          "output_type": "stream",
          "name": "stdout",
          "text": [
            "conv0_weight is done with shape:  (64, 3, 5, 7, 7)\n",
            "batchnorm0_gamma is done with shape:  (64,)\n",
            "batchnorm0_beta is done with shape:  (64,)\n",
            "batchnorm0_running_mean is done with shape:  (64,)\n",
            "batchnorm0_running_var is done with shape:  (64,)\n",
            "layer1_0_conv0_weight is done with shape:  (64, 64, 3, 1, 1)\n",
            "layer1_0_batchnorm0_gamma is done with shape:  (64,)\n",
            "layer1_0_batchnorm0_beta is done with shape:  (64,)\n",
            "layer1_0_batchnorm0_running_mean is done with shape:  (64,)\n",
            "layer1_0_batchnorm0_running_var is done with shape:  (64,)\n",
            "layer1_0_conv1_weight is done with shape:  (64, 64, 1, 3, 3)\n",
            "layer1_0_batchnorm1_gamma is done with shape:  (64,)\n",
            "layer1_0_batchnorm1_beta is done with shape:  (64,)\n",
            "layer1_0_batchnorm1_running_mean is done with shape:  (64,)\n",
            "layer1_0_batchnorm1_running_var is done with shape:  (64,)\n",
            "layer1_0_conv2_weight is done with shape:  (256, 64, 1, 1, 1)\n",
            "layer1_0_batchnorm2_gamma is done with shape:  (256,)\n",
            "layer1_0_batchnorm2_beta is done with shape:  (256,)\n",
            "layer1_0_batchnorm2_running_mean is done with shape:  (256,)\n",
            "layer1_0_batchnorm2_running_var is done with shape:  (256,)\n",
            "layer1_downsample_conv0_weight is done with shape:  (256, 64, 1, 1, 1)\n",
            "layer1_downsample_batchnorm0_gamma is done with shape:  (256,)\n",
            "layer1_downsample_batchnorm0_beta is done with shape:  (256,)\n",
            "layer1_downsample_batchnorm0_running_mean is done with shape:  (256,)\n",
            "layer1_downsample_batchnorm0_running_var is done with shape:  (256,)\n",
            "layer1_1_conv0_weight is done with shape:  (64, 256, 3, 1, 1)\n",
            "layer1_1_batchnorm0_gamma is done with shape:  (64,)\n",
            "layer1_1_batchnorm0_beta is done with shape:  (64,)\n",
            "layer1_1_batchnorm0_running_mean is done with shape:  (64,)\n",
            "layer1_1_batchnorm0_running_var is done with shape:  (64,)\n",
            "layer1_1_conv1_weight is done with shape:  (64, 64, 1, 3, 3)\n",
            "layer1_1_batchnorm1_gamma is done with shape:  (64,)\n",
            "layer1_1_batchnorm1_beta is done with shape:  (64,)\n",
            "layer1_1_batchnorm1_running_mean is done with shape:  (64,)\n",
            "layer1_1_batchnorm1_running_var is done with shape:  (64,)\n",
            "layer1_1_conv2_weight is done with shape:  (256, 64, 1, 1, 1)\n",
            "layer1_1_batchnorm2_gamma is done with shape:  (256,)\n",
            "layer1_1_batchnorm2_beta is done with shape:  (256,)\n",
            "layer1_1_batchnorm2_running_mean is done with shape:  (256,)\n",
            "layer1_1_batchnorm2_running_var is done with shape:  (256,)\n",
            "layer1_2_conv0_weight is done with shape:  (64, 256, 3, 1, 1)\n",
            "layer1_2_batchnorm0_gamma is done with shape:  (64,)\n",
            "layer1_2_batchnorm0_beta is done with shape:  (64,)\n",
            "layer1_2_batchnorm0_running_mean is done with shape:  (64,)\n",
            "layer1_2_batchnorm0_running_var is done with shape:  (64,)\n",
            "layer1_2_conv1_weight is done with shape:  (64, 64, 1, 3, 3)\n",
            "layer1_2_batchnorm1_gamma is done with shape:  (64,)\n",
            "layer1_2_batchnorm1_beta is done with shape:  (64,)\n",
            "layer1_2_batchnorm1_running_mean is done with shape:  (64,)\n",
            "layer1_2_batchnorm1_running_var is done with shape:  (64,)\n",
            "layer1_2_conv2_weight is done with shape:  (256, 64, 1, 1, 1)\n",
            "layer1_2_batchnorm2_gamma is done with shape:  (256,)\n",
            "layer1_2_batchnorm2_beta is done with shape:  (256,)\n",
            "layer1_2_batchnorm2_running_mean is done with shape:  (256,)\n",
            "layer1_2_batchnorm2_running_var is done with shape:  (256,)\n",
            "layer2_0_conv0_weight is done with shape:  (128, 256, 3, 1, 1)\n",
            "layer2_0_batchnorm0_gamma is done with shape:  (128,)\n",
            "layer2_0_batchnorm0_beta is done with shape:  (128,)\n",
            "layer2_0_batchnorm0_running_mean is done with shape:  (128,)\n",
            "layer2_0_batchnorm0_running_var is done with shape:  (128,)\n",
            "layer2_0_conv1_weight is done with shape:  (128, 128, 1, 3, 3)\n",
            "layer2_0_batchnorm1_gamma is done with shape:  (128,)\n",
            "layer2_0_batchnorm1_beta is done with shape:  (128,)\n",
            "layer2_0_batchnorm1_running_mean is done with shape:  (128,)\n",
            "layer2_0_batchnorm1_running_var is done with shape:  (128,)\n",
            "layer2_0_conv2_weight is done with shape:  (512, 128, 1, 1, 1)\n",
            "layer2_0_batchnorm2_gamma is done with shape:  (512,)\n",
            "layer2_0_batchnorm2_beta is done with shape:  (512,)\n",
            "layer2_0_batchnorm2_running_mean is done with shape:  (512,)\n",
            "layer2_0_batchnorm2_running_var is done with shape:  (512,)\n",
            "layer2_downsample_conv0_weight is done with shape:  (512, 256, 1, 1, 1)\n",
            "layer2_downsample_batchnorm0_gamma is done with shape:  (512,)\n",
            "layer2_downsample_batchnorm0_beta is done with shape:  (512,)\n",
            "layer2_downsample_batchnorm0_running_mean is done with shape:  (512,)\n",
            "layer2_downsample_batchnorm0_running_var is done with shape:  (512,)\n",
            "layer2_1_conv0_weight is done with shape:  (128, 512, 1, 1, 1)\n",
            "layer2_1_batchnorm0_gamma is done with shape:  (128,)\n",
            "layer2_1_batchnorm0_beta is done with shape:  (128,)\n",
            "layer2_1_batchnorm0_running_mean is done with shape:  (128,)\n",
            "layer2_1_batchnorm0_running_var is done with shape:  (128,)\n",
            "layer2_1_conv1_weight is done with shape:  (128, 128, 1, 3, 3)\n",
            "layer2_1_batchnorm1_gamma is done with shape:  (128,)\n",
            "layer2_1_batchnorm1_beta is done with shape:  (128,)\n",
            "layer2_1_batchnorm1_running_mean is done with shape:  (128,)\n",
            "layer2_1_batchnorm1_running_var is done with shape:  (128,)\n",
            "layer2_1_conv2_weight is done with shape:  (512, 128, 1, 1, 1)\n",
            "layer2_1_batchnorm2_gamma is done with shape:  (512,)\n",
            "layer2_1_batchnorm2_beta is done with shape:  (512,)\n",
            "layer2_1_batchnorm2_running_mean is done with shape:  (512,)\n",
            "layer2_1_batchnorm2_running_var is done with shape:  (512,)\n",
            "layer2_2_conv0_weight is done with shape:  (128, 512, 3, 1, 1)\n",
            "layer2_2_batchnorm0_gamma is done with shape:  (128,)\n",
            "layer2_2_batchnorm0_beta is done with shape:  (128,)\n",
            "layer2_2_batchnorm0_running_mean is done with shape:  (128,)\n",
            "layer2_2_batchnorm0_running_var is done with shape:  (128,)\n",
            "layer2_2_conv1_weight is done with shape:  (128, 128, 1, 3, 3)\n",
            "layer2_2_batchnorm1_gamma is done with shape:  (128,)\n",
            "layer2_2_batchnorm1_beta is done with shape:  (128,)\n",
            "layer2_2_batchnorm1_running_mean is done with shape:  (128,)\n",
            "layer2_2_batchnorm1_running_var is done with shape:  (128,)\n",
            "layer2_2_conv2_weight is done with shape:  (512, 128, 1, 1, 1)\n",
            "layer2_2_batchnorm2_gamma is done with shape:  (512,)\n",
            "layer2_2_batchnorm2_beta is done with shape:  (512,)\n",
            "layer2_2_batchnorm2_running_mean is done with shape:  (512,)\n",
            "layer2_2_batchnorm2_running_var is done with shape:  (512,)\n",
            "layer2_3_conv0_weight is done with shape:  (128, 512, 1, 1, 1)\n",
            "layer2_3_batchnorm0_gamma is done with shape:  (128,)\n",
            "layer2_3_batchnorm0_beta is done with shape:  (128,)\n",
            "layer2_3_batchnorm0_running_mean is done with shape:  (128,)\n",
            "layer2_3_batchnorm0_running_var is done with shape:  (128,)\n",
            "layer2_3_conv1_weight is done with shape:  (128, 128, 1, 3, 3)\n",
            "layer2_3_batchnorm1_gamma is done with shape:  (128,)\n",
            "layer2_3_batchnorm1_beta is done with shape:  (128,)\n",
            "layer2_3_batchnorm1_running_mean is done with shape:  (128,)\n",
            "layer2_3_batchnorm1_running_var is done with shape:  (128,)\n",
            "layer2_3_conv2_weight is done with shape:  (512, 128, 1, 1, 1)\n",
            "layer2_3_batchnorm2_gamma is done with shape:  (512,)\n",
            "layer2_3_batchnorm2_beta is done with shape:  (512,)\n",
            "layer2_3_batchnorm2_running_mean is done with shape:  (512,)\n",
            "layer2_3_batchnorm2_running_var is done with shape:  (512,)\n",
            "layer3_0_conv0_weight is done with shape:  (256, 512, 3, 1, 1)\n",
            "layer3_0_batchnorm0_gamma is done with shape:  (256,)\n",
            "layer3_0_batchnorm0_beta is done with shape:  (256,)\n",
            "layer3_0_batchnorm0_running_mean is done with shape:  (256,)\n",
            "layer3_0_batchnorm0_running_var is done with shape:  (256,)\n",
            "layer3_0_conv1_weight is done with shape:  (256, 256, 1, 3, 3)\n",
            "layer3_0_batchnorm1_gamma is done with shape:  (256,)\n",
            "layer3_0_batchnorm1_beta is done with shape:  (256,)\n",
            "layer3_0_batchnorm1_running_mean is done with shape:  (256,)\n",
            "layer3_0_batchnorm1_running_var is done with shape:  (256,)\n",
            "layer3_0_conv2_weight is done with shape:  (1024, 256, 1, 1, 1)\n",
            "layer3_0_batchnorm2_gamma is done with shape:  (1024,)\n",
            "layer3_0_batchnorm2_beta is done with shape:  (1024,)\n",
            "layer3_0_batchnorm2_running_mean is done with shape:  (1024,)\n",
            "layer3_0_batchnorm2_running_var is done with shape:  (1024,)\n",
            "layer3_downsample_conv0_weight is done with shape:  (1024, 512, 1, 1, 1)\n",
            "layer3_downsample_batchnorm0_gamma is done with shape:  (1024,)\n",
            "layer3_downsample_batchnorm0_beta is done with shape:  (1024,)\n",
            "layer3_downsample_batchnorm0_running_mean is done with shape:  (1024,)\n",
            "layer3_downsample_batchnorm0_running_var is done with shape:  (1024,)\n",
            "layer3_1_conv0_weight is done with shape:  (256, 1024, 1, 1, 1)\n",
            "layer3_1_batchnorm0_gamma is done with shape:  (256,)\n",
            "layer3_1_batchnorm0_beta is done with shape:  (256,)\n",
            "layer3_1_batchnorm0_running_mean is done with shape:  (256,)\n",
            "layer3_1_batchnorm0_running_var is done with shape:  (256,)\n",
            "layer3_1_conv1_weight is done with shape:  (256, 256, 1, 3, 3)\n",
            "layer3_1_batchnorm1_gamma is done with shape:  (256,)\n",
            "layer3_1_batchnorm1_beta is done with shape:  (256,)\n",
            "layer3_1_batchnorm1_running_mean is done with shape:  (256,)\n",
            "layer3_1_batchnorm1_running_var is done with shape:  (256,)\n",
            "layer3_1_conv2_weight is done with shape:  (1024, 256, 1, 1, 1)\n",
            "layer3_1_batchnorm2_gamma is done with shape:  (1024,)\n",
            "layer3_1_batchnorm2_beta is done with shape:  (1024,)\n",
            "layer3_1_batchnorm2_running_mean is done with shape:  (1024,)\n",
            "layer3_1_batchnorm2_running_var is done with shape:  (1024,)\n",
            "layer3_2_conv0_weight is done with shape:  (256, 1024, 3, 1, 1)\n",
            "layer3_2_batchnorm0_gamma is done with shape:  (256,)\n",
            "layer3_2_batchnorm0_beta is done with shape:  (256,)\n",
            "layer3_2_batchnorm0_running_mean is done with shape:  (256,)\n",
            "layer3_2_batchnorm0_running_var is done with shape:  (256,)\n",
            "layer3_2_conv1_weight is done with shape:  (256, 256, 1, 3, 3)\n",
            "layer3_2_batchnorm1_gamma is done with shape:  (256,)\n",
            "layer3_2_batchnorm1_beta is done with shape:  (256,)\n",
            "layer3_2_batchnorm1_running_mean is done with shape:  (256,)\n",
            "layer3_2_batchnorm1_running_var is done with shape:  (256,)\n",
            "layer3_2_conv2_weight is done with shape:  (1024, 256, 1, 1, 1)\n",
            "layer3_2_batchnorm2_gamma is done with shape:  (1024,)\n",
            "layer3_2_batchnorm2_beta is done with shape:  (1024,)\n",
            "layer3_2_batchnorm2_running_mean is done with shape:  (1024,)\n",
            "layer3_2_batchnorm2_running_var is done with shape:  (1024,)\n",
            "layer3_3_conv0_weight is done with shape:  (256, 1024, 1, 1, 1)\n",
            "layer3_3_batchnorm0_gamma is done with shape:  (256,)\n",
            "layer3_3_batchnorm0_beta is done with shape:  (256,)\n",
            "layer3_3_batchnorm0_running_mean is done with shape:  (256,)\n",
            "layer3_3_batchnorm0_running_var is done with shape:  (256,)\n",
            "layer3_3_conv1_weight is done with shape:  (256, 256, 1, 3, 3)\n",
            "layer3_3_batchnorm1_gamma is done with shape:  (256,)\n",
            "layer3_3_batchnorm1_beta is done with shape:  (256,)\n",
            "layer3_3_batchnorm1_running_mean is done with shape:  (256,)\n",
            "layer3_3_batchnorm1_running_var is done with shape:  (256,)\n",
            "layer3_3_conv2_weight is done with shape:  (1024, 256, 1, 1, 1)\n",
            "layer3_3_batchnorm2_gamma is done with shape:  (1024,)\n",
            "layer3_3_batchnorm2_beta is done with shape:  (1024,)\n",
            "layer3_3_batchnorm2_running_mean is done with shape:  (1024,)\n",
            "layer3_3_batchnorm2_running_var is done with shape:  (1024,)\n",
            "layer3_4_conv0_weight is done with shape:  (256, 1024, 3, 1, 1)\n",
            "layer3_4_batchnorm0_gamma is done with shape:  (256,)\n",
            "layer3_4_batchnorm0_beta is done with shape:  (256,)\n",
            "layer3_4_batchnorm0_running_mean is done with shape:  (256,)\n",
            "layer3_4_batchnorm0_running_var is done with shape:  (256,)\n",
            "layer3_4_conv1_weight is done with shape:  (256, 256, 1, 3, 3)\n",
            "layer3_4_batchnorm1_gamma is done with shape:  (256,)\n",
            "layer3_4_batchnorm1_beta is done with shape:  (256,)\n",
            "layer3_4_batchnorm1_running_mean is done with shape:  (256,)\n",
            "layer3_4_batchnorm1_running_var is done with shape:  (256,)\n",
            "layer3_4_conv2_weight is done with shape:  (1024, 256, 1, 1, 1)\n",
            "layer3_4_batchnorm2_gamma is done with shape:  (1024,)\n",
            "layer3_4_batchnorm2_beta is done with shape:  (1024,)\n",
            "layer3_4_batchnorm2_running_mean is done with shape:  (1024,)\n",
            "layer3_4_batchnorm2_running_var is done with shape:  (1024,)\n",
            "layer3_5_conv0_weight is done with shape:  (256, 1024, 1, 1, 1)\n",
            "layer3_5_batchnorm0_gamma is done with shape:  (256,)\n",
            "layer3_5_batchnorm0_beta is done with shape:  (256,)\n",
            "layer3_5_batchnorm0_running_mean is done with shape:  (256,)\n",
            "layer3_5_batchnorm0_running_var is done with shape:  (256,)\n",
            "layer3_5_conv1_weight is done with shape:  (256, 256, 1, 3, 3)\n",
            "layer3_5_batchnorm1_gamma is done with shape:  (256,)\n",
            "layer3_5_batchnorm1_beta is done with shape:  (256,)\n",
            "layer3_5_batchnorm1_running_mean is done with shape:  (256,)\n",
            "layer3_5_batchnorm1_running_var is done with shape:  (256,)\n",
            "layer3_5_conv2_weight is done with shape:  (1024, 256, 1, 1, 1)\n",
            "layer3_5_batchnorm2_gamma is done with shape:  (1024,)\n",
            "layer3_5_batchnorm2_beta is done with shape:  (1024,)\n",
            "layer3_5_batchnorm2_running_mean is done with shape:  (1024,)\n",
            "layer3_5_batchnorm2_running_var is done with shape:  (1024,)\n",
            "layer4_0_conv0_weight is done with shape:  (512, 1024, 1, 1, 1)\n",
            "layer4_0_batchnorm0_gamma is done with shape:  (512,)\n",
            "layer4_0_batchnorm0_beta is done with shape:  (512,)\n",
            "layer4_0_batchnorm0_running_mean is done with shape:  (512,)\n",
            "layer4_0_batchnorm0_running_var is done with shape:  (512,)\n",
            "layer4_0_conv1_weight is done with shape:  (512, 512, 1, 3, 3)\n",
            "layer4_0_batchnorm1_gamma is done with shape:  (512,)\n",
            "layer4_0_batchnorm1_beta is done with shape:  (512,)\n",
            "layer4_0_batchnorm1_running_mean is done with shape:  (512,)\n",
            "layer4_0_batchnorm1_running_var is done with shape:  (512,)\n",
            "layer4_0_conv2_weight is done with shape:  (2048, 512, 1, 1, 1)\n",
            "layer4_0_batchnorm2_gamma is done with shape:  (2048,)\n",
            "layer4_0_batchnorm2_beta is done with shape:  (2048,)\n",
            "layer4_0_batchnorm2_running_mean is done with shape:  (2048,)\n",
            "layer4_0_batchnorm2_running_var is done with shape:  (2048,)\n",
            "layer4_downsample_conv0_weight is done with shape:  (2048, 1024, 1, 1, 1)\n",
            "layer4_downsample_batchnorm0_gamma is done with shape:  (2048,)\n",
            "layer4_downsample_batchnorm0_beta is done with shape:  (2048,)\n",
            "layer4_downsample_batchnorm0_running_mean is done with shape:  (2048,)\n",
            "layer4_downsample_batchnorm0_running_var is done with shape:  (2048,)\n",
            "layer4_1_conv0_weight is done with shape:  (512, 2048, 3, 1, 1)\n",
            "layer4_1_batchnorm0_gamma is done with shape:  (512,)\n",
            "layer4_1_batchnorm0_beta is done with shape:  (512,)\n",
            "layer4_1_batchnorm0_running_mean is done with shape:  (512,)\n",
            "layer4_1_batchnorm0_running_var is done with shape:  (512,)\n",
            "layer4_1_conv1_weight is done with shape:  (512, 512, 1, 3, 3)\n",
            "layer4_1_batchnorm1_gamma is done with shape:  (512,)\n",
            "layer4_1_batchnorm1_beta is done with shape:  (512,)\n",
            "layer4_1_batchnorm1_running_mean is done with shape:  (512,)\n",
            "layer4_1_batchnorm1_running_var is done with shape:  (512,)\n",
            "layer4_1_conv2_weight is done with shape:  (2048, 512, 1, 1, 1)\n",
            "layer4_1_batchnorm2_gamma is done with shape:  (2048,)\n",
            "layer4_1_batchnorm2_beta is done with shape:  (2048,)\n",
            "layer4_1_batchnorm2_running_mean is done with shape:  (2048,)\n",
            "layer4_1_batchnorm2_running_var is done with shape:  (2048,)\n",
            "layer4_2_conv0_weight is done with shape:  (512, 2048, 1, 1, 1)\n",
            "layer4_2_batchnorm0_gamma is done with shape:  (512,)\n",
            "layer4_2_batchnorm0_beta is done with shape:  (512,)\n",
            "layer4_2_batchnorm0_running_mean is done with shape:  (512,)\n",
            "layer4_2_batchnorm0_running_var is done with shape:  (512,)\n",
            "layer4_2_conv1_weight is done with shape:  (512, 512, 1, 3, 3)\n",
            "layer4_2_batchnorm1_gamma is done with shape:  (512,)\n",
            "layer4_2_batchnorm1_beta is done with shape:  (512,)\n",
            "layer4_2_batchnorm1_running_mean is done with shape:  (512,)\n",
            "layer4_2_batchnorm1_running_var is done with shape:  (512,)\n",
            "layer4_2_conv2_weight is done with shape:  (2048, 512, 1, 1, 1)\n",
            "layer4_2_batchnorm2_gamma is done with shape:  (2048,)\n",
            "layer4_2_batchnorm2_beta is done with shape:  (2048,)\n",
            "layer4_2_batchnorm2_running_mean is done with shape:  (2048,)\n",
            "layer4_2_batchnorm2_running_var is done with shape:  (2048,)\n",
            "dense0_weight is skipped with shape:  (2, 2048)\n",
            "dense0_bias is skipped with shape:  (2,)\n",
            "Downloading /root/.mxnet/models/i3d_resnet50_v1_kinetics400-568a722e.zip from https://apache-mxnet.s3-accelerate.dualstack.amazonaws.com/gluon/models/i3d_resnet50_v1_kinetics400-568a722e.zip...\n"
          ]
        },
        {
          "output_type": "stream",
          "name": "stderr",
          "text": [
            "100%|██████████| 208483/208483 [00:11<00:00, 18177.46KB/s]\n"
          ]
        }
      ],
      "source": [
        "#net = gluoncv.model_zoo.slowfast_4x16_resnet50_kinetics400(nclass=50, pretrained_base=True, num_segments=1, ctx=ctx)#check num_segments\n",
        "#net = get_model(name='i3d_resnet50_v1_custom', nclass=2)\n",
        "#kinetics_model = get_model(name='slowfast_8x8_resnet101_kinetics400', nclass=400, pretrained=True)\n",
        "net = get_model(name='i3d_resnet50_v1_custom',nclass=2,pretrained=False,pretrained_base=True,feat_ext=False,partial_bn=True)\n",
        "\n",
        "                   \n",
        "                     \n",
        "                    \n",
        "\n",
        "# source_params = kinetics_model.collect_params()\n",
        "# target_params = net.collect_params()\n",
        "# assert len(source_params.keys()) == len(target_params.keys())\n",
        "\n",
        "# pretrained_weights=[]\n",
        "# for layer_name in source_params.keys():\n",
        "#     pretrained_weights.append(source_params[layer_name].data())\n",
        "\n",
        "# for i, layer_name in enumerate(target_params.keys()):\n",
        "#     if i + 2 == len(source_params.keys()):\n",
        "#         # skip the last dense layer\n",
        "#         break\n",
        "#     target_params[layer_name].set_data(pretrained_weights[i])\n",
        "\n",
        "# net.collect_params().reset_ctx(ctx)"
      ]
    },
    {
      "cell_type": "code",
      "execution_count": null,
      "metadata": {
        "id": "_qJAna6-5-ST"
      },
      "outputs": [],
      "source": [
        "# net.summary\n",
        "# or print(net) , both work "
      ]
    },
    {
      "cell_type": "code",
      "execution_count": null,
      "metadata": {
        "id": "OO3AFFYZid_0"
      },
      "outputs": [],
      "source": [
        "# mx.viz.plot_network(net(mx.sym.var('data'))[0], node_attrs={\"shape\":\"oval\",\"fixedsize\":\"false\"},hide_weights=False,save_format='pdf').render()"
      ]
    },
    {
      "cell_type": "code",
      "execution_count": null,
      "metadata": {
        "id": "tncqoHCJjGMU"
      },
      "outputs": [],
      "source": [
        "\n",
        "net.collect_params().reset_ctx(ctx)\n",
        "net.collect_params().reset_ctx(mx.Context('cpu'))\n",
        "net.load_parameters('/content/drive/MyDrive/yhacks/weights_9.params')\n",
        "net.collect_params().reset_ctx(mx.Context('gpu'))"
      ]
    },
    {
      "cell_type": "code",
      "execution_count": null,
      "metadata": {
        "id": "JMxhlgHJPh3o"
      },
      "outputs": [],
      "source": [
        "net.collect_params().setattr('grad_req', 'null')\n",
        "\n",
        "\n",
        "# net.res_layers[3].collect_params().setattr('grad_req', 'write')\n",
        "# net.res_layers[2].collect_params().setattr('grad_req', 'write')\n",
        "# net.st_avg.collect_params().setattr('grad_req', 'write')\n",
        "net.head.collect_params().setattr('grad_req', 'write')\n",
        "net.fc.collect_params().setattr('grad_req', 'write')\n",
        "net.collect_params().reset_ctx(mx.Context('gpu'))"
      ]
    },
    {
      "cell_type": "code",
      "execution_count": null,
      "metadata": {
        "id": "RpA4ZN3n6jvi"
      },
      "outputs": [],
      "source": [
        "net.hybridize()\n",
        "warmup_epoch = 2\n",
        "total_epoch = 10\n",
        "num_batches = len(train_data)\n",
        "\n",
        "scheduler=mx.lr_scheduler.CosineScheduler(max_update=total_epoch, base_lr=1e-4, final_lr=1e-6, warmup_steps=warmup_epoch,  warmup_mode='constant',warmup_begin_lr=1e-4)\n",
        "\n",
        "# lr_scheduler = LRSequential([\n",
        "#     LRScheduler('linear', base_lr=0.1, target_lr=0.12,\n",
        "#                 nepochs=warmup_epoch, iters_per_epoch=num_batches),\n",
        "#     LRScheduler('cosine', base_lr=0.12, target_lr=0,\n",
        "#                 nepochs=total_epoch - warmup_epoch,\n",
        "#                 iters_per_epoch=num_batches,\n",
        "#                 step_factor=lr_decay, power=2)\n",
        "# ])\n",
        "# Stochastic gradient descent\n",
        "optimizer = 'Adam'#mxnet.optimizer.Adam(learning_rate=0.001, beta1=0.9, beta2=0.999, epsilon=1e-08, )\n",
        "# Set parameters\n",
        "#optimizer_params = {'learning_rate':  0.005}  #,'wd': 0.0001, 'momentum': 0.9}\n",
        "#optimizer_params['lr_scheduler'] = lr_scheduler\n",
        "optimizer_params = {'wd': 1e-4}  #,'wd': 0.0001,\n",
        "\n",
        "\n",
        "\n",
        "\n",
        "# Define our trainer for net\n",
        "trainer = gluon.Trainer(net.collect_params(), optimizer, optimizer_params)#the set of parameters to optimize\n",
        "loss_fn = gluon.loss.SoftmaxCrossEntropyLoss()\n",
        "train_metric = mx.metric.Accuracy()\n",
        "val_metric = mx.metric.Accuracy()\n",
        "train_history = TrainingHistory(['training-acc']) "
      ]
    },
    {
      "cell_type": "code",
      "execution_count": null,
      "metadata": {
        "id": "mrzGzVkJVf3J",
        "colab": {
          "base_uri": "https://localhost:8080/",
          "height": 296
        },
        "outputId": "2e5176e7-3aa5-466d-d5de-6318e72b4e59"
      },
      "outputs": [
        {
          "output_type": "execute_result",
          "data": {
            "text/plain": [
              "<matplotlib.axes._subplots.AxesSubplot at 0x7fee79cc1a10>"
            ]
          },
          "metadata": {},
          "execution_count": 16
        },
        {
          "output_type": "display_data",
          "data": {
            "text/plain": [
              "<Figure size 432x288 with 1 Axes>"
            ],
            "image/png": "[encoded data removed]"
          },
          "metadata": {
            "needs_background": "light"
          }
        }
      ],
      "source": [
        "import pandas as pd\n",
        "df = pd.DataFrame(columns=['epoch','lr'])\n",
        "for i in range(total_epoch):\n",
        "  dictionary = {'epoch':i,'lr':scheduler(i)}\n",
        "  df = df.append(dictionary,ignore_index=True)\n",
        "  #print(optimizer.learning_rate)\n",
        "df.plot(x = 'epoch', y = 'lr')"
      ]
    },
    {
      "cell_type": "markdown",
      "metadata": {
        "id": "OFG7iGVT-Uoa"
      },
      "source": [
        "\n",
        "valid_acc = metric.Accuracy()\n",
        "for data,label in valid_data:\n",
        "    output = network(data)\n",
        "    valid_acc.update(label,output)"
      ]
    },
    {
      "cell_type": "code",
      "execution_count": null,
      "metadata": {
        "id": "4at9Q40qZRs_",
        "colab": {
          "base_uri": "https://localhost:8080/",
          "height": 442
        },
        "outputId": "6aeb2abd-771c-46f6-e25c-919845ef4fb1"
      },
      "outputs": [
        {
          "output_type": "stream",
          "name": "stdout",
          "text": [
            "[Epoch 0] train=0.900000 loss=0.676221 lr=0.000100 time: 6.306873\n",
            "[Epoch 1] train=0.800000 loss=0.683104 lr=0.000100 time: 6.329958\n",
            "[Epoch 2] train=1.000000 loss=0.662342 lr=0.000100 time: 6.686812\n",
            "[Epoch 3] train=0.900000 loss=0.670496 lr=0.000096 time: 6.061710\n",
            "[Epoch 4] train=1.000000 loss=0.651996 lr=0.000086 time: 5.734033\n",
            "[Epoch 5] train=0.700000 loss=0.657466 lr=0.000069 time: 6.006545\n",
            "[Epoch 6] train=0.900000 loss=0.658228 lr=0.000051 time: 7.413042\n",
            "[Epoch 7] train=0.800000 loss=0.676052 lr=0.000032 time: 5.969315\n",
            "[Epoch 8] train=0.800000 loss=0.672363 lr=0.000015 time: 5.896529\n",
            "[Epoch 9] train=0.900000 loss=0.663253 lr=0.000005 time: 5.910499\n"
          ]
        },
        {
          "output_type": "display_data",
          "data": {
            "text/plain": [
              "<Figure size 432x288 with 1 Axes>"
            ],
            "image/png": "[encoded data removed]"
          },
          "metadata": {
            "needs_background": "light"
          }
        }
      ],
      "source": [
        "epochs = total_epoch\n",
        "\n",
        "for epoch in range(epochs):\n",
        "    lr = scheduler(epoch)\n",
        "    trainer.set_learning_rate(lr)\n",
        "    tic = time.time()\n",
        "    train_metric.reset()\n",
        "    val_metric.reset()\n",
        "    train_loss = 0\n",
        "\n",
        "    # Loop through each batch of training data\n",
        "    for i, batch in enumerate(train_data):\n",
        "        # Extract data and label\n",
        "        data = split_and_load(batch[0], ctx_list=ctx, batch_axis=0)\n",
        "        label = split_and_load(batch[1], ctx_list=ctx, batch_axis=0)\n",
        "\n",
        "        # AutoGrad\n",
        "        with ag.record():\n",
        "            output = []\n",
        "            for _, X in enumerate(data):\n",
        "                X = X.reshape((-1,) + X.shape[2:])\n",
        "                pred = net(X)\n",
        "                output.append(pred)\n",
        "            loss = [loss_fn(yhat, y) for yhat, y in zip(output, label)]\n",
        "\n",
        "        # Backpropagation\n",
        "        for l in loss:\n",
        "            l.backward()\n",
        "\n",
        "        # Optimize\n",
        "        trainer.step(batch_size)\n",
        "\n",
        "        # Update metrics\n",
        "        train_loss += sum([l.mean().asscalar() for l in loss])\n",
        "        train_metric.update(label, output)\n",
        "\n",
        "        #if i == 100:\n",
        "         #   break\n",
        "\n",
        "    name, acc = train_metric.get()\n",
        "\n",
        "    #--------------------------------------------------------------------------\n",
        "    # for i, batch in enumerate(val_data):\n",
        "    #     # Extract data and label\n",
        "    #     data = split_and_load(batch[0], ctx_list=ctx, batch_axis=0)\n",
        "    #     label = split_and_load(batch[1], ctx_list=ctx, batch_axis=0)\n",
        "\n",
        "        \n",
        "    #     val_output = []\n",
        "    #     for _, X in enumerate(data):\n",
        "    #         X = X.reshape((-1,) + X.shape[2:])\n",
        "    #         pred = net(X)\n",
        "    #         val_output.append(pred)\n",
        "            \n",
        "   \n",
        "    #     val_metric.update(label, val_output)\n",
        "    # name_val, val_acc = val_metric.get()\n",
        "\n",
        "    # Update history and print metrics\n",
        "    train_history.update([acc])\n",
        "    # print('[Epoch %d] train=%f val=%f loss=%f lr=%f time: %f' %\n",
        "    #     (epoch, acc, val_acc, train_loss / (i+1),trainer.learning_rate, time.time()-tic))\n",
        "    print('[Epoch %d] train=%f loss=%f lr=%f time: %f' %\n",
        "        (epoch, acc, train_loss / (i+1),trainer.learning_rate, time.time()-tic))\n",
        "    \n",
        "    if epoch%9==0:\n",
        "      x = epoch \n",
        "      file_name = '/content/drive/MyDrive/yhacks/weights_'+str(x)+'.params'\n",
        "      net.save_parameters(file_name)\n",
        "# We can plot the metric scores with:\n",
        "train_history.plot()\n"
      ]
    },
    {
      "cell_type": "code",
      "execution_count": null,
      "metadata": {
        "id": "rUFhs7iBcUwj"
      },
      "outputs": [],
      "source": [
        "# print(net.slow_res3[0].conv1.weight.data())\n",
        "# print(net.fc.weight.data())"
      ]
    },
    {
      "cell_type": "code",
      "execution_count": null,
      "metadata": {
        "id": "gz8m2eBKeh7H",
        "colab": {
          "base_uri": "https://localhost:8080/"
        },
        "outputId": "fa9d648c-7b4e-4cf8-afe6-911abaebe739"
      },
      "outputs": [
        {
          "output_type": "stream",
          "name": "stdout",
          "text": [
            "Child is banging or shaking head continuously and suffering from Autism\n",
            "Child is banging or shaking head continuously and suffering from Autism\n",
            "Child is flapping arms and suffering from Autism\n",
            "Child is banging or shaking head continuously and suffering from Autism\n",
            "Child is banging or shaking head continuously and suffering from Autism\n",
            "Child is flapping arms and suffering from Autism\n",
            "Child is flapping arms and suffering from Autism\n",
            "Child is banging or shaking head continuously and suffering from Autism\n",
            "Child is flapping arms and suffering from Autism\n",
            "Child is flapping arms and suffering from Autism\n"
          ]
        }
      ],
      "source": [
        "import os\n",
        "import pandas as pd\n",
        "import random\n",
        "import shutil\n",
        "\n",
        "class_str = []\n",
        "class_str_dict = {}\n",
        "for word in os.listdir('/content/drive/MyDrive/yhacks/dataset'):   #CHANGE\n",
        "    class_str.append(word)\n",
        "for work in class_str:\n",
        "  seperate = work.split('_')\n",
        "  # print(seperate)\n",
        "  num = int(seperate[1])\n",
        "  c = str(seperate[0])\n",
        "  class_str_dict[num] =  c\n",
        "  class_str = []\n",
        "# print(class_str_dict)\n",
        "for i in range(len(class_str_dict)):\n",
        "    class_str.append(class_str_dict[i])\n",
        "\n",
        "\n",
        "\n",
        "\n",
        "from sklearn.metrics import classification_report\n",
        "from sklearn.metrics import accuracy_score\n",
        "import numpy as np\n",
        "import sklearn\n",
        "from sklearn.metrics import confusion_matrix\n",
        "import seaborn as sns\n",
        "import math as m\n",
        "import matplotlib.pyplot as plt\n",
        "k = []\n",
        "for i in range(2):\n",
        "  k.append(i)\n",
        "val_metric = mx.metric.Accuracy()\n",
        "# val2 = mx.metric.TopKAccuracy(top_k = 3)\n",
        "# val3 = mx.metric.TopKAccuracy(top_k = 5)\n",
        "# val3.reset()\n",
        "# val2.reset()\n",
        "val_metric.reset()\n",
        "y_true = []\n",
        "predictions_valid = []\n",
        "y_pred = []\n",
        "# print(len(val_dataset))\n",
        "for i, batch in enumerate(val_data): # here change accordingly whether val or train\n",
        "        \n",
        "        # print(i)\n",
        "        # print(len(val_data))\n",
        "        # if i==m.ceil(len(val_dataset)/16): # declare these 2 variables and also change according with val and train\n",
        "        #   break\n",
        "        data = split_and_load(batch[0], ctx_list=ctx, batch_axis=0)\n",
        "        label = split_and_load(batch[1], ctx_list=ctx, batch_axis=0)\n",
        "        y_true = y_true + label[0].asnumpy().tolist()\n",
        "        val_output = []\n",
        "        for _, X in enumerate(data):\n",
        "            X = X.reshape((-1,) + X.shape[2:])\n",
        "            # print(X.shape)\n",
        "            # print(type(X))\n",
        "            pred = net(X)\n",
        "            # print(pred.shape)\n",
        "            val_output.append(pred)\n",
        "            predictions_valid  = predictions_valid + pred.asnumpy().tolist()\n",
        "        val_metric.update(label, val_output)\n",
        "        # val2.update(label, val_output)\n",
        "        # val3.update(label, val_output)\n",
        "\n",
        "name_val, val_acc = val_metric.get()\n",
        "# print('val=%f'  %(val_acc))\n",
        "# print(val2)\n",
        "# print(val3)\n",
        " \n",
        "for i in range(0,len(predictions_valid)):\n",
        "    y_pred = y_pred + [np.argmax(predictions_valid[i])]\n",
        "\n",
        "# print(len(y_pred))\n",
        "# print(len(y_true))\n",
        "# print(y_true)\n",
        "# print(y_pred)\n",
        "for i in y_pred:\n",
        "  if i==0:\n",
        "    print(\"Child is flapping arms and suffering from Autism\")\n",
        "  else:\n",
        "    print(\"Child is banging or shaking head continuously and suffering from Autism\")\n",
        "\n",
        "score = accuracy_score(y_true, y_pred)\n",
        "# print('Classification Report: ',classification_report(y_true,y_pred))\n",
        "cm = confusion_matrix(y_true, y_pred)\n",
        "# f,ax= plt.subplots(figsize=(15, 15))\n",
        "# sns.heatmap(cm,annot = True, fmt='g', ax=ax,) #annot=True to annotate cells, ftm='g' to disable scientific notation\n",
        "\n",
        "#labels, title and ticks\n",
        "#ax.set_xlabel('Predicted labels');ax.set_ylabel('True labels');\n",
        "#ax.set_title('Confusion Matrix');\n",
        "classes_rev = []\n",
        "\n",
        "classes = k\n",
        "l = 2\n",
        "for i in range(1,l+1):\n",
        "    classes_rev = classes_rev + [classes[l-i]]\n",
        "# ax.xaxis.set_ticklabels(class_str);ax.yaxis.set_ticklabels(class_str);\n",
        "# plt.yticks(rotation='horizontal')\n",
        "# plt.xticks(rotation=90)\n",
        "# ax.xaxis.set_ticklabels(classes);ax.yaxis.set_ticklabels(classes);\n",
        "# ax.figure.savefig(\"confusion_mat_of_i3dres50_1.png\",dpi=500)        #CHANGE FILE NAME \n",
        "# print('Accuracy: ', score)\n",
        "# print('F1',sklearn.metrics.f1_score(y_true, y_pred, average='weighted'))\n",
        "\n",
        "with open('i3dres50_FINAL.txt','w') as ft:       #CHANGE FILEN NAME\n",
        "  for r in cm:\n",
        "   for c in r:\n",
        "      ft.write(str(c))\n",
        "   ft.write('\\n')\n",
        "  "
      ]
    },
    {
      "cell_type": "code",
      "execution_count": null,
      "metadata": {
        "id": "U4GkjJxf2SRs"
      },
      "outputs": [],
      "source": [
        "mx.nd.array(numpy_ex_int_array)"
      ]
    },
    {
      "cell_type": "code",
      "source": [
        "X = X.reshape((-1,) + X.shape[2:])\n",
        "print(X.shape)\n",
        "print(type(X))\n",
        "pred = net(X)"
      ],
      "metadata": {
        "id": "LgXq9F4hBZNc"
      },
      "execution_count": null,
      "outputs": []
    },
    {
      "cell_type": "code",
      "source": [
        "!pip install sk-video"
      ],
      "metadata": {
        "colab": {
          "base_uri": "https://localhost:8080/"
        },
        "id": "EBnrOfkUDNLr",
        "outputId": "dcdf9e28-8f98-4497-92fc-0e83ee5db0c6"
      },
      "execution_count": null,
      "outputs": [
        {
          "output_type": "stream",
          "name": "stdout",
          "text": [
            "Collecting sk-video\n",
            "  Downloading sk_video-1.1.10-py2.py3-none-any.whl (2.3 MB)\n",
            "\u001b[K     |████████████████████████████████| 2.3 MB 10.3 MB/s \n",
            "\u001b[?25hRequirement already satisfied: numpy in /usr/local/lib/python3.7/dist-packages (from sk-video) (1.21.5)\n",
            "Requirement already satisfied: scipy in /usr/local/lib/python3.7/dist-packages (from sk-video) (1.4.1)\n",
            "Installing collected packages: sk-video\n",
            "Successfully installed sk-video-1.1.10\n"
          ]
        }
      ]
    },
    {
      "cell_type": "code",
      "source": [
        "import skvideo.io  \n",
        "videodata = skvideo.io.vread(\"drive/MyDrive/yhacks/dataset/armflapping_0/afn2.mp4\")  \n",
        "print(videodata.shape)\n",
        "x = mx.nd.array(videodata)\n",
        "type(x)"
      ],
      "metadata": {
        "colab": {
          "base_uri": "https://localhost:8080/"
        },
        "id": "l7PpNWTmDE6J",
        "outputId": "8ceda024-1d6f-480d-fb15-0b913e9d0ddc"
      },
      "execution_count": null,
      "outputs": [
        {
          "output_type": "stream",
          "name": "stdout",
          "text": [
            "(122, 360, 480, 3)\n"
          ]
        },
        {
          "output_type": "execute_result",
          "data": {
            "text/plain": [
              "mxnet.ndarray.ndarray.NDArray"
            ]
          },
          "metadata": {},
          "execution_count": 44
        }
      ]
    },
    {
      "cell_type": "code",
      "source": [
        ""
      ],
      "metadata": {
        "id": "JqdHWhZgDLqa"
      },
      "execution_count": null,
      "outputs": []
    }
  ],
  "metadata": {
    "accelerator": "GPU",
    "colab": {
      "collapsed_sections": [],
      "name": "yhack_Autism_Detection.ipynb",
      "provenance": []
    },
    "kernelspec": {
      "display_name": "Python 3",
      "name": "python3"
    },
    "language_info": {
      "name": "python"
    }
  },
  "nbformat": 4,
  "nbformat_minor": 0
}